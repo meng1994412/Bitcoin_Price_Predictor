{
 "cells": [
  {
   "cell_type": "code",
   "execution_count": 83,
   "metadata": {},
   "outputs": [],
   "source": [
    "# import libraries\n",
    "import pandas as pd\n",
    "import numpy as np\n",
    "import matplotlib.pyplot as plt\n",
    "import tensorflow as tf\n",
    "pd.set_option('display.max_rows',15)"
   ]
  },
  {
   "cell_type": "code",
   "execution_count": 84,
   "metadata": {},
   "outputs": [],
   "source": [
    "# ---------------------- Load data ------------------------"
   ]
  },
  {
   "cell_type": "code",
   "execution_count": 85,
   "metadata": {},
   "outputs": [],
   "source": [
    "# load bitcoin scaled data\n",
    "bitcoin_scale = pd.read_csv ('/home/sunny/NWU/EECS349/Bitcoin_Price_Predictor/code/bitcoin_price_scaled.csv', \\\n",
    "                       parse_dates = True, index_col = [0])"
   ]
  },
  {
   "cell_type": "code",
   "execution_count": 86,
   "metadata": {},
   "outputs": [
    {
     "data": {
      "text/html": [
       "<div>\n",
       "<style scoped>\n",
       "    .dataframe tbody tr th:only-of-type {\n",
       "        vertical-align: middle;\n",
       "    }\n",
       "\n",
       "    .dataframe tbody tr th {\n",
       "        vertical-align: top;\n",
       "    }\n",
       "\n",
       "    .dataframe thead th {\n",
       "        text-align: right;\n",
       "    }\n",
       "</style>\n",
       "<table border=\"1\" class=\"dataframe\">\n",
       "  <thead>\n",
       "    <tr style=\"text-align: right;\">\n",
       "      <th></th>\n",
       "      <th>Open</th>\n",
       "      <th>Close</th>\n",
       "      <th>Volume</th>\n",
       "      <th>Market Cap</th>\n",
       "    </tr>\n",
       "  </thead>\n",
       "  <tbody>\n",
       "    <tr>\n",
       "      <th>0</th>\n",
       "      <td>-0.455745</td>\n",
       "      <td>-0.456843</td>\n",
       "      <td>-0.299032</td>\n",
       "      <td>-0.448995</td>\n",
       "    </tr>\n",
       "    <tr>\n",
       "      <th>1</th>\n",
       "      <td>-0.456037</td>\n",
       "      <td>-0.453352</td>\n",
       "      <td>-0.299032</td>\n",
       "      <td>-0.449183</td>\n",
       "    </tr>\n",
       "    <tr>\n",
       "      <th>2</th>\n",
       "      <td>-0.452796</td>\n",
       "      <td>-0.455224</td>\n",
       "      <td>-0.299032</td>\n",
       "      <td>-0.447038</td>\n",
       "    </tr>\n",
       "    <tr>\n",
       "      <th>3</th>\n",
       "      <td>-0.454491</td>\n",
       "      <td>-0.462664</td>\n",
       "      <td>-0.299032</td>\n",
       "      <td>-0.448144</td>\n",
       "    </tr>\n",
       "    <tr>\n",
       "      <th>4</th>\n",
       "      <td>-0.462159</td>\n",
       "      <td>-0.466646</td>\n",
       "      <td>-0.299032</td>\n",
       "      <td>-0.453187</td>\n",
       "    </tr>\n",
       "    <tr>\n",
       "      <th>5</th>\n",
       "      <td>-0.465594</td>\n",
       "      <td>-0.469168</td>\n",
       "      <td>-0.299032</td>\n",
       "      <td>-0.455443</td>\n",
       "    </tr>\n",
       "    <tr>\n",
       "      <th>6</th>\n",
       "      <td>-0.468357</td>\n",
       "      <td>-0.464182</td>\n",
       "      <td>-0.299032</td>\n",
       "      <td>-0.457257</td>\n",
       "    </tr>\n",
       "    <tr>\n",
       "      <th>...</th>\n",
       "      <td>...</td>\n",
       "      <td>...</td>\n",
       "      <td>...</td>\n",
       "      <td>...</td>\n",
       "    </tr>\n",
       "    <tr>\n",
       "      <th>1753</th>\n",
       "      <td>2.413988</td>\n",
       "      <td>2.707144</td>\n",
       "      <td>2.522310</td>\n",
       "      <td>2.438914</td>\n",
       "    </tr>\n",
       "    <tr>\n",
       "      <th>1754</th>\n",
       "      <td>2.715180</td>\n",
       "      <td>2.934215</td>\n",
       "      <td>2.934818</td>\n",
       "      <td>2.740778</td>\n",
       "    </tr>\n",
       "    <tr>\n",
       "      <th>1755</th>\n",
       "      <td>2.934659</td>\n",
       "      <td>2.957031</td>\n",
       "      <td>2.302708</td>\n",
       "      <td>2.960809</td>\n",
       "    </tr>\n",
       "    <tr>\n",
       "      <th>1756</th>\n",
       "      <td>2.959001</td>\n",
       "      <td>3.254081</td>\n",
       "      <td>2.791081</td>\n",
       "      <td>2.985578</td>\n",
       "    </tr>\n",
       "    <tr>\n",
       "      <th>1757</th>\n",
       "      <td>3.269516</td>\n",
       "      <td>3.064487</td>\n",
       "      <td>2.820830</td>\n",
       "      <td>3.296901</td>\n",
       "    </tr>\n",
       "    <tr>\n",
       "      <th>1758</th>\n",
       "      <td>3.075999</td>\n",
       "      <td>3.292142</td>\n",
       "      <td>2.430080</td>\n",
       "      <td>3.103572</td>\n",
       "    </tr>\n",
       "    <tr>\n",
       "      <th>1759</th>\n",
       "      <td>3.306266</td>\n",
       "      <td>3.352444</td>\n",
       "      <td>3.244005</td>\n",
       "      <td>3.334588</td>\n",
       "    </tr>\n",
       "  </tbody>\n",
       "</table>\n",
       "<p>1760 rows × 4 columns</p>\n",
       "</div>"
      ],
      "text/plain": [
       "          Open     Close    Volume  Market Cap\n",
       "0    -0.455745 -0.456843 -0.299032   -0.448995\n",
       "1    -0.456037 -0.453352 -0.299032   -0.449183\n",
       "2    -0.452796 -0.455224 -0.299032   -0.447038\n",
       "3    -0.454491 -0.462664 -0.299032   -0.448144\n",
       "4    -0.462159 -0.466646 -0.299032   -0.453187\n",
       "5    -0.465594 -0.469168 -0.299032   -0.455443\n",
       "6    -0.468357 -0.464182 -0.299032   -0.457257\n",
       "...        ...       ...       ...         ...\n",
       "1753  2.413988  2.707144  2.522310    2.438914\n",
       "1754  2.715180  2.934215  2.934818    2.740778\n",
       "1755  2.934659  2.957031  2.302708    2.960809\n",
       "1756  2.959001  3.254081  2.791081    2.985578\n",
       "1757  3.269516  3.064487  2.820830    3.296901\n",
       "1758  3.075999  3.292142  2.430080    3.103572\n",
       "1759  3.306266  3.352444  3.244005    3.334588\n",
       "\n",
       "[1760 rows x 4 columns]"
      ]
     },
     "execution_count": 86,
     "metadata": {},
     "output_type": "execute_result"
    }
   ],
   "source": [
    "# check data\n",
    "bitcoin_scale"
   ]
  },
  {
   "cell_type": "code",
   "execution_count": 87,
   "metadata": {},
   "outputs": [],
   "source": [
    "# --------------------- Data preparation ---------------------"
   ]
  },
  {
   "cell_type": "code",
   "execution_count": 88,
   "metadata": {},
   "outputs": [],
   "source": [
    "bitcoin_scale = np.array(bitcoin_scale)\n",
    "# split data into training set and testing set\n",
    "split = int(0.9 * bitcoin_scale.shape[0])\n",
    "train_data = bitcoin_scale[0 : split]\n",
    "test_data = bitcoin_scale[split : ]"
   ]
  },
  {
   "cell_type": "code",
   "execution_count": 89,
   "metadata": {},
   "outputs": [
    {
     "data": {
      "text/plain": [
       "array([[-0.45574506, -0.45684347, -0.29903222, -0.44899489],\n",
       "       [-0.45603663, -0.45335175, -0.29903222, -0.44918323],\n",
       "       [-0.45279553, -0.45522437, -0.29903222, -0.44703786],\n",
       "       ...,\n",
       "       [ 3.26951589,  3.06448669,  2.82083002,  3.2969005 ],\n",
       "       [ 3.07599936,  3.29214164,  2.43008002,  3.10357174],\n",
       "       [ 3.3062664 ,  3.352444  ,  3.24400533,  3.33458834]])"
      ]
     },
     "execution_count": 89,
     "metadata": {},
     "output_type": "execute_result"
    }
   ],
   "source": [
    "bitcoin_scale"
   ]
  },
  {
   "cell_type": "code",
   "execution_count": 90,
   "metadata": {},
   "outputs": [
    {
     "name": "stdout",
     "output_type": "stream",
     "text": [
      "(1584, 3) (1584,) (176, 3) (176,)\n"
     ]
    }
   ],
   "source": [
    "# extract input and output training set\n",
    "# input set: 1584 x 3 matrix\n",
    "x_train = train_data[:, [0, 2, 3]]\n",
    "# output set: 1584 x 1 matrix\n",
    "y_train = train_data[:, 1]\n",
    "\n",
    "# extract input and output testing set\n",
    "# input set: 176 x 3 matrix\n",
    "x_test = test_data[:, [0, 2, 3]]\n",
    "# output set: 176 x 1 matrix\n",
    "y_test = test_data[:, 1]\n",
    "\n",
    "# check dataset\n",
    "print(x_train.shape, y_train.shape, x_test.shape, y_test.shape)"
   ]
  },
  {
   "cell_type": "code",
   "execution_count": 91,
   "metadata": {},
   "outputs": [],
   "source": [
    "# --------------------- Build neural network -------------------"
   ]
  },
  {
   "cell_type": "code",
   "execution_count": 92,
   "metadata": {},
   "outputs": [],
   "source": [
    "# set number of datasets (columns)\n",
    "n_dataset = x_train.shape[1]\n",
    "\n",
    "# set number of neurons in each layer\n",
    "n_neurons_1 = 4\n",
    "n_neurons_2 = 2\n",
    "n_target = 1"
   ]
  },
  {
   "cell_type": "code",
   "execution_count": 93,
   "metadata": {},
   "outputs": [
    {
     "name": "stderr",
     "output_type": "stream",
     "text": [
      "/home/sunny/.conda/envs/py3env/lib/python3.6/site-packages/tensorflow/python/client/session.py:1711: UserWarning: An interactive session is already active. This can cause out-of-memory errors in some cases. You must explicitly call `InteractiveSession.close()` to release resources held by the other session(s).\n",
      "  warnings.warn('An interactive session is already active. This can '\n"
     ]
    }
   ],
   "source": [
    "# session\n",
    "net = tf.InteractiveSession()"
   ]
  },
  {
   "cell_type": "code",
   "execution_count": 94,
   "metadata": {},
   "outputs": [],
   "source": [
    "# define input and output placeholder for neural network\n",
    "# The None argument indicates that at this point we do not yet know the number of \n",
    "# observations that flow through the neural net graph in each batch\n",
    "X = tf.placeholder(dtype = tf.float32, name = \"X\", shape = [None, n_dataset])\n",
    "Y = tf.placeholder(dtype = tf.float32, name = \"Y\", shape = [None])"
   ]
  },
  {
   "cell_type": "code",
   "execution_count": 95,
   "metadata": {},
   "outputs": [],
   "source": [
    "# define initializer\n",
    "sigma = 1.0\n",
    "weight_initializer = tf.variance_scaling_initializer(mode = \"fan_avg\", distribution = \"uniform\", scale = sigma)\n",
    "bias_initializer = tf.zeros_initializer()"
   ]
  },
  {
   "cell_type": "code",
   "execution_count": 96,
   "metadata": {},
   "outputs": [],
   "source": [
    "# model architecture parameter\n",
    "# hidden layers + bias\n",
    "\n",
    "# Layer 1: Variables for hidden weights and biases\n",
    "w_hidden_1 = tf.Variable(weight_initializer([n_dataset, n_neurons_1]))\n",
    "bias_hidden_1 = tf.Variable(bias_initializer([n_neurons_1]))\n",
    "\n",
    "# Layer 2: Variables for hidden weights and biases\n",
    "w_hidden_2 = tf.Variable(weight_initializer([n_neurons_1, n_neurons_2]))\n",
    "bias_hidden_2 = tf.Variable(bias_initializer([n_neurons_2]))\n",
    "\n",
    "# Output Layer:\n",
    "w_out = tf.Variable(weight_initializer([n_neurons_2, n_target]))\n",
    "bias_out = tf.Variable(bias_initializer([n_target]))"
   ]
  },
  {
   "cell_type": "code",
   "execution_count": 97,
   "metadata": {},
   "outputs": [],
   "source": [
    "# activation function (ReLU) for each hidden layer\n",
    "\n",
    "# activation function for hidden layer 1\n",
    "hidden_1 = tf.nn.relu(tf.add(tf.matmul(X, w_hidden_1), bias_hidden_1))\n",
    "\n",
    "# activation function for hidden layer 2\n",
    "hidden_2 = tf.nn.relu(tf.add(tf.matmul(hidden_1, w_hidden_2), bias_hidden_2))\n",
    "\n",
    "# output layer\n",
    "out = tf.transpose(tf.add(tf.matmul(hidden_2, w_out), bias_out))"
   ]
  },
  {
   "cell_type": "code",
   "execution_count": 98,
   "metadata": {},
   "outputs": [],
   "source": [
    "# define cost function\n",
    "mse = tf.reduce_mean(tf.squared_difference(out, Y))"
   ]
  },
  {
   "cell_type": "code",
   "execution_count": 99,
   "metadata": {},
   "outputs": [],
   "source": [
    "# define optimizer\n",
    "opt = tf.train.AdamOptimizer().minimize(mse)"
   ]
  },
  {
   "cell_type": "code",
   "execution_count": 100,
   "metadata": {},
   "outputs": [],
   "source": [
    "# initialize all variables above\n",
    "net.run(tf.global_variables_initializer())"
   ]
  },
  {
   "cell_type": "code",
   "execution_count": 101,
   "metadata": {},
   "outputs": [
    {
     "data": {
      "image/png": "[encoded data removed]",
      "text/plain": [
       "<matplotlib.figure.Figure at 0x7f5b0c177208>"
      ]
     },
     "metadata": {},
     "output_type": "display_data"
    }
   ],
   "source": [
    "# set up plot\n",
    "plt.ion()\n",
    "fig = plt.figure()\n",
    "ax1 = fig.add_subplot(111)\n",
    "line1, = ax1.plot(y_test)\n",
    "line2, = ax1.plot(y_test * 0.5)\n",
    "plt.show()"
   ]
  },
  {
   "cell_type": "code",
   "execution_count": 102,
   "metadata": {},
   "outputs": [],
   "source": [
    "# fit neural net\n",
    "batch_size = 15\n",
    "epochs = 10\n",
    "\n",
    "mse_train = []\n",
    "mse_test = []\n",
    "\n",
    "for e in range(epochs):\n",
    "    \n",
    "    # shuffle the data first\n",
    "    shuffle_indices = np.random.permutation(np.arange(0, len(y_train)))\n",
    "    x_train = x_train[shuffle_indices]\n",
    "    y_train = y_train[shuffle_indices]\n",
    "    \n",
    "    # mini-batch training\n",
    "    for i in range(len(y_train) // batch_size):\n",
    "        start = i * batch_size\n",
    "        batch_x = x_train[start : start + batch_size]\n",
    "        batch_y = y_train[start : start + batch_size]\n",
    "        \n",
    "        # run optimizer with batch\n",
    "        net.run(opt, feed_dict = {X: batch_x, Y: batch_y})\n",
    "        \n",
    "        # show progress\n",
    "        if np.mod(i , 50) == 0:\n",
    "            \n",
    "            # mse training and testing\n",
    "            mse_train.append(net.run(mse, feed_dict = {X: batch_x, Y: batch_y}))\n",
    "            mse_test.append(net.run(mse, feed_dict = {X: x_test, Y: y_test}))\n",
    "        \n",
    "        # prediction\n",
    "        pred = net.run(out, feed_dict = {X: x_test})\n",
    "        "
   ]
  },
  {
   "cell_type": "code",
   "execution_count": 103,
   "metadata": {},
   "outputs": [
    {
     "name": "stdout",
     "output_type": "stream",
     "text": [
      "The mean squared errors are [6.7347064, 6.41977, 5.992505, 5.9528413, 5.0909967, 4.1898394, 4.094931, 2.9509928, 2.0785866, 1.967978, 1.1802427, 0.61634207, 0.5653315, 0.28360605, 0.1289256, 0.12370649, 0.09429257, 0.085645586, 0.08550401, 0.086316004, 0.0906932, 0.09008848, 0.09452236, 0.08947671, 0.090180814, 0.09480134, 0.08947929, 0.090158135, 0.089477666, 0.09159731]\n"
     ]
    },
    {
     "data": {
      "image/png": "[encoded data removed]",
      "text/plain": [
       "<matplotlib.figure.Figure at 0x7f5ad4112630>"
      ]
     },
     "metadata": {},
     "output_type": "display_data"
    }
   ],
   "source": [
    "# plot learning curve\n",
    "plt.figure(figsize = (20, 6))\n",
    "plt.plot(mse_test)\n",
    "plt.show\n",
    "\n",
    "print(\"The mean squared errors are\", str(mse_test))"
   ]
  },
  {
   "cell_type": "code",
   "execution_count": 109,
   "metadata": {},
   "outputs": [
    {
     "data": {
      "image/png": "[encoded data removed]",
      "text/plain": [
       "<matplotlib.figure.Figure at 0x7f5ac38d1e80>"
      ]
     },
     "metadata": {},
     "output_type": "display_data"
    }
   ],
   "source": [
    "# plot the prediction values and true values\n",
    "plt.figure(figsize = (20, 6))\n",
    "plt.plot(pred[0], label = 'Predict Value')\n",
    "plt.plot(y_test, label = 'True Value')\n",
    "plt.legend(loc = 'best')\n",
    "plt.show()"
   ]
  },
  {
   "cell_type": "code",
   "execution_count": 106,
   "metadata": {},
   "outputs": [
    {
     "data": {
      "text/plain": [
       "array([[0.9808744 , 0.98862994, 0.98520684, 1.0763552 , 1.1412159 ,\n",
       "        0.99283373, 1.0762666 , 0.95347357, 0.9539287 , 0.9874996 ,\n",
       "        1.0583107 , 0.85281515, 0.8754475 , 0.8365284 , 0.87325   ,\n",
       "        0.8906107 , 0.8581289 , 0.71360564, 0.72303593, 0.6695827 ,\n",
       "        0.7199515 , 0.82437325, 0.75375605, 0.7649944 , 0.6725657 ,\n",
       "        0.65252304, 0.6862823 , 0.7015238 , 0.74442077, 0.7844355 ,\n",
       "        0.87080157, 0.83711755, 0.8233404 , 0.87198365, 0.90454376,\n",
       "        0.89702296, 0.8591831 , 0.83792853, 0.85712624, 0.85706544,\n",
       "        0.90538526, 1.0074626 , 1.0236686 , 0.9983895 , 1.131119  ,\n",
       "        1.3710808 , 1.2703391 , 1.3476214 , 1.3090727 , 1.3097734 ,\n",
       "        1.316369  , 1.2630363 , 1.3421199 , 1.4110302 , 1.4088871 ,\n",
       "        1.428946  , 1.4353532 , 1.2618549 , 1.3192585 , 1.3464996 ,\n",
       "        1.2917936 , 1.3951925 , 1.4113661 , 1.4579928 , 1.5872386 ,\n",
       "        1.8190082 , 1.805909  , 1.7588452 , 1.8177158 , 1.8741063 ,\n",
       "        1.7077657 , 1.9169279 , 1.8955404 , 1.9731294 , 1.7956785 ,\n",
       "        1.8724126 , 1.6628362 , 1.6476194 , 1.7458054 , 2.0089111 ,\n",
       "        2.1200953 , 2.000493  , 1.9798154 , 2.082221  , 2.189886  ,\n",
       "        2.1046705 , 2.1936135 , 2.2142072 , 2.2056246 , 2.4459238 ,\n",
       "        2.6168342 , 2.8019676 , 3.1551733 , 2.9774656 , 2.9407964 ,\n",
       "        3.030994  , 3.1740842 , 3.2023659 , 3.3648782 , 3.775733  ,\n",
       "        4.703152  , 5.9284163 , 5.2574606 , 4.82324   , 4.816719  ,\n",
       "        5.416147  , 5.459084  , 5.2104297 , 5.307204  , 5.514748  ,\n",
       "        6.0381384 , 6.0536127 , 6.19347   , 5.958611  , 5.4033165 ,\n",
       "        5.376458  , 4.433602  , 4.5477157 , 4.306902  , 4.475677  ,\n",
       "        5.0536275 , 4.9587107 , 4.6684074 , 4.7163396 , 4.071854  ,\n",
       "        4.3125854 , 4.4724236 , 4.899144  , 5.170046  , 5.310242  ,\n",
       "        5.7339272 , 5.665979  , 5.428552  , 4.939882  , 4.838929  ,\n",
       "        4.8873315 , 4.249001  , 4.4316792 , 4.450561  , 4.3737507 ,\n",
       "        4.6176205 , 3.8601413 , 3.6488814 , 3.5664158 , 3.6766095 ,\n",
       "        3.949543  , 3.6241922 , 3.3757982 , 3.3733902 , 3.4579697 ,\n",
       "        3.4780855 , 3.289578  , 3.433292  , 3.4157882 , 3.4088535 ,\n",
       "        3.0273604 , 3.1665888 , 2.9222665 , 2.616087  , 2.6921926 ,\n",
       "        2.5231242 , 2.3103724 , 2.3569975 , 2.32654   , 2.4176583 ,\n",
       "        2.6114473 , 2.4631934 , 2.340732  , 2.5177073 , 2.5792212 ,\n",
       "        2.901814  , 2.9810004 , 3.1069665 , 3.3704305 , 3.1261396 ,\n",
       "        3.4851165 ]], dtype=float32)"
      ]
     },
     "execution_count": 106,
     "metadata": {},
     "output_type": "execute_result"
    }
   ],
   "source": [
    "pred"
   ]
  },
  {
   "cell_type": "code",
   "execution_count": null,
   "metadata": {},
   "outputs": [],
   "source": []
  }
 ],
 "metadata": {
  "kernelspec": {
   "display_name": "Python 3",
   "language": "python",
   "name": "python3"
  },
  "language_info": {
   "codemirror_mode": {
    "name": "ipython",
    "version": 3
   },
   "file_extension": ".py",
   "mimetype": "text/x-python",
   "name": "python",
   "nbconvert_exporter": "python",
   "pygments_lexer": "ipython3",
   "version": "3.6.4"
  }
 },
 "nbformat": 4,
 "nbformat_minor": 2
}
