{
 "cells": [
  {
   "cell_type": "code",
   "execution_count": 139,
   "metadata": {},
   "outputs": [],
   "source": [
    "# import libraries\n",
    "import pandas as pd\n",
    "import numpy as np\n",
    "import matplotlib.pyplot as plt\n",
    "import tensorflow as tf\n",
    "pd.set_option('display.max_rows',15)"
   ]
  },
  {
   "cell_type": "code",
   "execution_count": 140,
   "metadata": {},
   "outputs": [],
   "source": [
    "# ---------------------- Load data ------------------------"
   ]
  },
  {
   "cell_type": "code",
   "execution_count": 141,
   "metadata": {},
   "outputs": [],
   "source": [
    "# load bitcoin scaled data\n",
    "bitcoin_scale = pd.read_csv ('/home/sunny/NWU/EECS349/Bitcoin_Price_Predictor/data/bitcoin_price_scaled.csv', \\\n",
    "                       parse_dates = True, index_col = [0])"
   ]
  },
  {
   "cell_type": "code",
   "execution_count": 142,
   "metadata": {},
   "outputs": [
    {
     "data": {
      "text/html": [
       "<div>\n",
       "<style scoped>\n",
       "    .dataframe tbody tr th:only-of-type {\n",
       "        vertical-align: middle;\n",
       "    }\n",
       "\n",
       "    .dataframe tbody tr th {\n",
       "        vertical-align: top;\n",
       "    }\n",
       "\n",
       "    .dataframe thead th {\n",
       "        text-align: right;\n",
       "    }\n",
       "</style>\n",
       "<table border=\"1\" class=\"dataframe\">\n",
       "  <thead>\n",
       "    <tr style=\"text-align: right;\">\n",
       "      <th></th>\n",
       "      <th>Open</th>\n",
       "      <th>Volume</th>\n",
       "      <th>Market Cap</th>\n",
       "      <th>Close</th>\n",
       "    </tr>\n",
       "  </thead>\n",
       "  <tbody>\n",
       "    <tr>\n",
       "      <th>0</th>\n",
       "      <td>-0.465778</td>\n",
       "      <td>-0.302261</td>\n",
       "      <td>-0.455671</td>\n",
       "      <td>-0.464142</td>\n",
       "    </tr>\n",
       "    <tr>\n",
       "      <th>1</th>\n",
       "      <td>-0.464861</td>\n",
       "      <td>-0.302261</td>\n",
       "      <td>-0.455057</td>\n",
       "      <td>-0.465361</td>\n",
       "    </tr>\n",
       "    <tr>\n",
       "      <th>2</th>\n",
       "      <td>-0.463872</td>\n",
       "      <td>-0.302261</td>\n",
       "      <td>-0.454395</td>\n",
       "      <td>-0.465631</td>\n",
       "    </tr>\n",
       "    <tr>\n",
       "      <th>3</th>\n",
       "      <td>-0.464031</td>\n",
       "      <td>-0.302261</td>\n",
       "      <td>-0.454491</td>\n",
       "      <td>-0.464932</td>\n",
       "    </tr>\n",
       "    <tr>\n",
       "      <th>4</th>\n",
       "      <td>-0.464559</td>\n",
       "      <td>-0.302261</td>\n",
       "      <td>-0.454831</td>\n",
       "      <td>-0.465236</td>\n",
       "    </tr>\n",
       "    <tr>\n",
       "      <th>5</th>\n",
       "      <td>-0.464175</td>\n",
       "      <td>-0.302261</td>\n",
       "      <td>-0.454567</td>\n",
       "      <td>-0.463707</td>\n",
       "    </tr>\n",
       "    <tr>\n",
       "      <th>6</th>\n",
       "      <td>-0.464037</td>\n",
       "      <td>-0.302261</td>\n",
       "      <td>-0.454467</td>\n",
       "      <td>-0.464369</td>\n",
       "    </tr>\n",
       "    <tr>\n",
       "      <th>...</th>\n",
       "      <td>...</td>\n",
       "      <td>...</td>\n",
       "      <td>...</td>\n",
       "      <td>...</td>\n",
       "    </tr>\n",
       "    <tr>\n",
       "      <th>1746</th>\n",
       "      <td>2.439860</td>\n",
       "      <td>1.927741</td>\n",
       "      <td>2.464486</td>\n",
       "      <td>2.701065</td>\n",
       "    </tr>\n",
       "    <tr>\n",
       "      <th>1747</th>\n",
       "      <td>2.436451</td>\n",
       "      <td>2.248272</td>\n",
       "      <td>2.461413</td>\n",
       "      <td>2.927780</td>\n",
       "    </tr>\n",
       "    <tr>\n",
       "      <th>1748</th>\n",
       "      <td>2.587600</td>\n",
       "      <td>2.620091</td>\n",
       "      <td>2.613081</td>\n",
       "      <td>2.950560</td>\n",
       "    </tr>\n",
       "    <tr>\n",
       "      <th>1749</th>\n",
       "      <td>2.773593</td>\n",
       "      <td>2.485113</td>\n",
       "      <td>2.799618</td>\n",
       "      <td>3.247145</td>\n",
       "    </tr>\n",
       "    <tr>\n",
       "      <th>1750</th>\n",
       "      <td>2.878329</td>\n",
       "      <td>2.666956</td>\n",
       "      <td>2.904842</td>\n",
       "      <td>3.057848</td>\n",
       "    </tr>\n",
       "    <tr>\n",
       "      <th>1751</th>\n",
       "      <td>3.088258</td>\n",
       "      <td>2.775533</td>\n",
       "      <td>3.115434</td>\n",
       "      <td>3.285146</td>\n",
       "    </tr>\n",
       "    <tr>\n",
       "      <th>1752</th>\n",
       "      <td>3.095753</td>\n",
       "      <td>2.628993</td>\n",
       "      <td>3.123348</td>\n",
       "      <td>3.345354</td>\n",
       "    </tr>\n",
       "  </tbody>\n",
       "</table>\n",
       "<p>1753 rows × 4 columns</p>\n",
       "</div>"
      ],
      "text/plain": [
       "          Open    Volume  Market Cap     Close\n",
       "0    -0.465778 -0.302261   -0.455671 -0.464142\n",
       "1    -0.464861 -0.302261   -0.455057 -0.465361\n",
       "2    -0.463872 -0.302261   -0.454395 -0.465631\n",
       "3    -0.464031 -0.302261   -0.454491 -0.464932\n",
       "4    -0.464559 -0.302261   -0.454831 -0.465236\n",
       "5    -0.464175 -0.302261   -0.454567 -0.463707\n",
       "6    -0.464037 -0.302261   -0.454467 -0.464369\n",
       "...        ...       ...         ...       ...\n",
       "1746  2.439860  1.927741    2.464486  2.701065\n",
       "1747  2.436451  2.248272    2.461413  2.927780\n",
       "1748  2.587600  2.620091    2.613081  2.950560\n",
       "1749  2.773593  2.485113    2.799618  3.247145\n",
       "1750  2.878329  2.666956    2.904842  3.057848\n",
       "1751  3.088258  2.775533    3.115434  3.285146\n",
       "1752  3.095753  2.628993    3.123348  3.345354\n",
       "\n",
       "[1753 rows x 4 columns]"
      ]
     },
     "execution_count": 142,
     "metadata": {},
     "output_type": "execute_result"
    }
   ],
   "source": [
    "# check data\n",
    "bitcoin_scale"
   ]
  },
  {
   "cell_type": "code",
   "execution_count": 143,
   "metadata": {},
   "outputs": [],
   "source": [
    "# --------------------- Data preparation ---------------------"
   ]
  },
  {
   "cell_type": "code",
   "execution_count": 144,
   "metadata": {},
   "outputs": [],
   "source": [
    "bitcoin_scale = np.array(bitcoin_scale)\n",
    "# split data into training set and testing set\n",
    "split = int(0.9 * bitcoin_scale.shape[0])\n",
    "train_data = bitcoin_scale[0 : split]\n",
    "test_data = bitcoin_scale[split : ]"
   ]
  },
  {
   "cell_type": "code",
   "execution_count": 145,
   "metadata": {},
   "outputs": [
    {
     "data": {
      "text/plain": [
       "array([[-0.46577845, -0.3022605 , -0.45567105, -0.46414242],\n",
       "       [-0.464861  , -0.3022605 , -0.45505719, -0.46536076],\n",
       "       [-0.46387174, -0.3022605 , -0.45439541, -0.46563075],\n",
       "       ...,\n",
       "       [ 2.87832864,  2.66695596,  2.90484212,  3.0578475 ],\n",
       "       [ 3.08825825,  2.77553342,  3.11543391,  3.28514582],\n",
       "       [ 3.09575298,  2.62899335,  3.12334792,  3.34535372]])"
      ]
     },
     "execution_count": 145,
     "metadata": {},
     "output_type": "execute_result"
    }
   ],
   "source": [
    "bitcoin_scale"
   ]
  },
  {
   "cell_type": "code",
   "execution_count": 146,
   "metadata": {},
   "outputs": [
    {
     "name": "stdout",
     "output_type": "stream",
     "text": [
      "(1577, 3) (1577,) (176, 3) (176,)\n"
     ]
    }
   ],
   "source": [
    "# extract input and output training set\n",
    "# input set: 1584 x 3 matrix\n",
    "x_train = train_data[:, [0, 1, 2]]\n",
    "# output set: 1584 x 1 matrix\n",
    "y_train = train_data[:, 3]\n",
    "\n",
    "# extract input and output testing set\n",
    "# input set: 176 x 3 matrix\n",
    "x_test = test_data[:, [0, 1, 2]]\n",
    "# output set: 176 x 1 matrix\n",
    "y_test = test_data[:, 1]\n",
    "\n",
    "# check dataset\n",
    "print(x_train.shape, y_train.shape, x_test.shape, y_test.shape)"
   ]
  },
  {
   "cell_type": "code",
   "execution_count": 147,
   "metadata": {},
   "outputs": [],
   "source": [
    "# --------------------- Build neural network -------------------"
   ]
  },
  {
   "cell_type": "code",
   "execution_count": 148,
   "metadata": {},
   "outputs": [],
   "source": [
    "# set number of datasets (columns)\n",
    "n_dataset = x_train.shape[1]\n",
    "\n",
    "# set number of neurons in each layer\n",
    "n_neurons_1 = 4\n",
    "n_neurons_2 = 2\n",
    "n_target = 1"
   ]
  },
  {
   "cell_type": "code",
   "execution_count": 149,
   "metadata": {},
   "outputs": [
    {
     "name": "stderr",
     "output_type": "stream",
     "text": [
      "/home/sunny/.conda/envs/py3env/lib/python3.6/site-packages/tensorflow/python/client/session.py:1711: UserWarning: An interactive session is already active. This can cause out-of-memory errors in some cases. You must explicitly call `InteractiveSession.close()` to release resources held by the other session(s).\n",
      "  warnings.warn('An interactive session is already active. This can '\n"
     ]
    }
   ],
   "source": [
    "# session\n",
    "net = tf.InteractiveSession()"
   ]
  },
  {
   "cell_type": "code",
   "execution_count": 150,
   "metadata": {},
   "outputs": [],
   "source": [
    "# define input and output placeholder for neural network\n",
    "# The None argument indicates that at this point we do not yet know the number of \n",
    "# observations that flow through the neural net graph in each batch\n",
    "X = tf.placeholder(dtype = tf.float32, name = \"X\", shape = [None, n_dataset])\n",
    "Y = tf.placeholder(dtype = tf.float32, name = \"Y\", shape = [None])"
   ]
  },
  {
   "cell_type": "code",
   "execution_count": 151,
   "metadata": {},
   "outputs": [],
   "source": [
    "# define initializer\n",
    "sigma = 1.0\n",
    "weight_initializer = tf.variance_scaling_initializer(mode = \"fan_avg\", distribution = \"uniform\", scale = sigma)\n",
    "bias_initializer = tf.zeros_initializer()"
   ]
  },
  {
   "cell_type": "code",
   "execution_count": 152,
   "metadata": {},
   "outputs": [],
   "source": [
    "# model architecture parameter\n",
    "# hidden layers + bias\n",
    "\n",
    "# Layer 1: Variables for hidden weights and biases\n",
    "w_hidden_1 = tf.Variable(weight_initializer([n_dataset, n_neurons_1]))\n",
    "bias_hidden_1 = tf.Variable(bias_initializer([n_neurons_1]))\n",
    "\n",
    "# Layer 2: Variables for hidden weights and biases\n",
    "w_hidden_2 = tf.Variable(weight_initializer([n_neurons_1, n_neurons_2]))\n",
    "bias_hidden_2 = tf.Variable(bias_initializer([n_neurons_2]))\n",
    "\n",
    "# Output Layer:\n",
    "w_out = tf.Variable(weight_initializer([n_neurons_2, n_target]))\n",
    "bias_out = tf.Variable(bias_initializer([n_target]))"
   ]
  },
  {
   "cell_type": "code",
   "execution_count": 153,
   "metadata": {},
   "outputs": [],
   "source": [
    "# activation function (ReLU) for each hidden layer\n",
    "\n",
    "# activation function for hidden layer 1\n",
    "hidden_1 = tf.nn.relu(tf.add(tf.matmul(X, w_hidden_1), bias_hidden_1))\n",
    "\n",
    "# activation function for hidden layer 2\n",
    "hidden_2 = tf.nn.relu(tf.add(tf.matmul(hidden_1, w_hidden_2), bias_hidden_2))\n",
    "\n",
    "# output layer\n",
    "out = tf.transpose(tf.add(tf.matmul(hidden_2, w_out), bias_out))"
   ]
  },
  {
   "cell_type": "code",
   "execution_count": 154,
   "metadata": {},
   "outputs": [],
   "source": [
    "# define cost function\n",
    "mse = tf.reduce_mean(tf.squared_difference(out, Y))"
   ]
  },
  {
   "cell_type": "code",
   "execution_count": 155,
   "metadata": {},
   "outputs": [],
   "source": [
    "# define optimizer\n",
    "opt = tf.train.AdamOptimizer().minimize(mse)"
   ]
  },
  {
   "cell_type": "code",
   "execution_count": 156,
   "metadata": {},
   "outputs": [],
   "source": [
    "# initialize all variables above\n",
    "net.run(tf.global_variables_initializer())"
   ]
  },
  {
   "cell_type": "code",
   "execution_count": 157,
   "metadata": {},
   "outputs": [
    {
     "data": {
      "image/png": "[encoded data removed]",
      "text/plain": [
       "<matplotlib.figure.Figure at 0x7fc1dc315208>"
      ]
     },
     "metadata": {},
     "output_type": "display_data"
    }
   ],
   "source": [
    "# set up plot\n",
    "plt.ion()\n",
    "fig = plt.figure()\n",
    "ax1 = fig.add_subplot(111)\n",
    "line1, = ax1.plot(y_test)\n",
    "line2, = ax1.plot(y_test * 0.5)\n",
    "plt.show()"
   ]
  },
  {
   "cell_type": "code",
   "execution_count": 158,
   "metadata": {},
   "outputs": [],
   "source": [
    "# fit neural net\n",
    "batch_size = 15\n",
    "epochs = 10\n",
    "\n",
    "mse_train = []\n",
    "mse_test = []\n",
    "\n",
    "for e in range(epochs):\n",
    "    \n",
    "    # shuffle the data first\n",
    "    shuffle_indices = np.random.permutation(np.arange(0, len(y_train)))\n",
    "    x_train = x_train[shuffle_indices]\n",
    "    y_train = y_train[shuffle_indices]\n",
    "    \n",
    "    # mini-batch training\n",
    "    for i in range(len(y_train) // batch_size):\n",
    "        start = i * batch_size\n",
    "        batch_x = x_train[start : start + batch_size]\n",
    "        batch_y = y_train[start : start + batch_size]\n",
    "        \n",
    "        # run optimizer with batch\n",
    "        net.run(opt, feed_dict = {X: batch_x, Y: batch_y})\n",
    "        \n",
    "        # show progress\n",
    "        if np.mod(i , 50) == 0:\n",
    "            \n",
    "            # mse training and testing\n",
    "            mse_train.append(net.run(mse, feed_dict = {X: batch_x, Y: batch_y}))\n",
    "            mse_test.append(net.run(mse, feed_dict = {X: x_test, Y: y_test}))\n",
    "        \n",
    "        # prediction\n",
    "        pred = net.run(out, feed_dict = {X: x_test})\n",
    "        "
   ]
  },
  {
   "cell_type": "code",
   "execution_count": 159,
   "metadata": {},
   "outputs": [
    {
     "name": "stdout",
     "output_type": "stream",
     "text": [
      "The mean squared errors are [9.203902, 9.383635, 9.296914, 9.201968, 7.9900665, 6.4253902, 6.238588, 4.7395277, 3.5001137, 3.3456068, 2.2149534, 1.6726626, 1.6109494, 1.2360569, 1.0192227, 0.9854799, 0.8716848, 0.69980586, 0.697528, 0.6785517, 0.65418655, 0.6617621, 0.65328884, 0.64349836, 0.6622309, 0.6207732, 0.70308954, 0.706138, 0.6622706, 0.7398028]\n"
     ]
    },
    {
     "data": {
      "image/png": "[encoded data removed]",
      "text/plain": [
       "<matplotlib.figure.Figure at 0x7fc1dc14a8d0>"
      ]
     },
     "metadata": {},
     "output_type": "display_data"
    }
   ],
   "source": [
    "# plot learning curve\n",
    "plt.figure(figsize = (20, 6))\n",
    "plt.plot(mse_test)\n",
    "plt.show\n",
    "\n",
    "print(\"The mean squared errors are\", str(mse_test))"
   ]
  },
  {
   "cell_type": "code",
   "execution_count": 160,
   "metadata": {},
   "outputs": [
    {
     "data": {
      "image/png": "[encoded data removed]",
      "text/plain": [
       "<matplotlib.figure.Figure at 0x7fc1dc14a588>"
      ]
     },
     "metadata": {},
     "output_type": "display_data"
    }
   ],
   "source": [
    "# plot the prediction values and true values\n",
    "plt.figure(figsize = (20, 6))\n",
    "plt.plot(pred[0], label = 'Predict Value')\n",
    "plt.plot(y_test, label = 'True Value')\n",
    "plt.legend(loc = 'best')\n",
    "plt.show()"
   ]
  },
  {
   "cell_type": "code",
   "execution_count": 161,
   "metadata": {},
   "outputs": [
    {
     "data": {
      "text/plain": [
       "array([[0.77457047, 0.8499248 , 0.8422744 , 0.8383732 , 0.91867757,\n",
       "        0.9871056 , 0.9119568 , 0.98943293, 0.94165885, 0.9132663 ,\n",
       "        0.8651322 , 0.93498313, 0.79863906, 0.763216  , 0.72344124,\n",
       "        0.7409202 , 0.78599775, 0.82693744, 0.74413204, 0.7289132 ,\n",
       "        0.6824781 , 0.68743503, 0.68378234, 0.6318836 , 0.6261116 ,\n",
       "        0.57864416, 0.52766335, 0.4974437 , 0.5394198 , 0.5425627 ,\n",
       "        0.6120517 , 0.6717824 , 0.66243887, 0.6401659 , 0.6420125 ,\n",
       "        0.67088294, 0.6707009 , 0.6448338 , 0.630018  , 0.61985016,\n",
       "        0.6004131 , 0.639403  , 0.7436837 , 0.7672851 , 0.73933995,\n",
       "        0.8995042 , 1.1161213 , 1.0254143 , 1.0272992 , 1.0201383 ,\n",
       "        1.0003916 , 1.0436949 , 0.99500656, 1.0413154 , 1.0711566 ,\n",
       "        1.0698062 , 1.1069665 , 1.156889  , 1.0673718 , 1.0327896 ,\n",
       "        1.0048133 , 0.94914925, 1.0776926 , 1.0495856 , 1.0953479 ,\n",
       "        1.2027689 , 1.4756564 , 1.4948776 , 1.4138068 , 1.3783895 ,\n",
       "        1.4410704 , 1.358315  , 1.5731854 , 1.5512459 , 1.7050833 ,\n",
       "        1.6345018 , 1.6181072 , 1.5236942 , 1.5110056 , 1.5286837 ,\n",
       "        1.6394755 , 1.7558504 , 1.7562202 , 1.6542302 , 1.6627499 ,\n",
       "        1.7675503 , 1.7393922 , 1.7999796 , 1.9096242 , 1.8995053 ,\n",
       "        2.0416486 , 2.1633434 , 2.2946773 , 2.4711995 , 2.4885883 ,\n",
       "        2.5118828 , 2.5987892 , 2.6769166 , 2.7277806 , 2.8269866 ,\n",
       "        2.9872227 , 3.447441  , 4.1785183 , 4.271278  , 4.1364903 ,\n",
       "        4.0829487 , 4.2836685 , 4.4331203 , 4.3738284 , 4.375977  ,\n",
       "        4.504235  , 4.7982364 , 4.9205465 , 5.0121512 , 4.9620895 ,\n",
       "        4.710472  , 4.57395   , 4.118482  , 3.9508216 , 3.7750943 ,\n",
       "        3.7339137 , 3.9721844 , 4.0524316 , 3.9531782 , 3.926112  ,\n",
       "        3.648742  , 3.6387928 , 3.669072  , 3.8559673 , 4.0606737 ,\n",
       "        4.2213373 , 4.4731646 , 4.572817  , 4.525035  , 4.301275  ,\n",
       "        4.146966  , 4.0881433 , 3.7973502 , 3.7249005 , 3.7173507 ,\n",
       "        3.6619146 , 3.7358615 , 3.4646356 , 3.2420733 , 3.0983613 ,\n",
       "        3.0707893 , 3.1867955 , 3.093262  , 2.9443498 , 2.87121   ,\n",
       "        2.8857164 , 2.8850505 , 2.8415937 , 2.8687866 , 2.9008439 ,\n",
       "        2.8830647 , 2.7116926 , 2.6708372 , 2.551596  , 2.3733795 ,\n",
       "        2.322464  , 2.214005  , 2.0744581 , 2.0237992 , 1.9856919 ,\n",
       "        2.0102646 , 2.095781  , 2.100088  , 2.0440843 , 2.1089337 ,\n",
       "        2.1324615 , 2.275328  , 2.4028885 , 2.495699  , 2.66092   ,\n",
       "        2.6545305 ]], dtype=float32)"
      ]
     },
     "execution_count": 161,
     "metadata": {},
     "output_type": "execute_result"
    }
   ],
   "source": [
    "pred"
   ]
  },
  {
   "cell_type": "code",
   "execution_count": null,
   "metadata": {},
   "outputs": [],
   "source": []
  }
 ],
 "metadata": {
  "kernelspec": {
   "display_name": "Python 3",
   "language": "python",
   "name": "python3"
  },
  "language_info": {
   "codemirror_mode": {
    "name": "ipython",
    "version": 3
   },
   "file_extension": ".py",
   "mimetype": "text/x-python",
   "name": "python",
   "nbconvert_exporter": "python",
   "pygments_lexer": "ipython3",
   "version": "3.6.4"
  }
 },
 "nbformat": 4,
 "nbformat_minor": 2
}
