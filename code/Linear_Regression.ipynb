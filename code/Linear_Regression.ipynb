{
 "cells": [
  {
   "cell_type": "code",
   "execution_count": 1,
   "metadata": {},
   "outputs": [],
   "source": [
    "# import libraries\n",
    "import numpy as np\n",
    "import pandas as pd\n",
    "import matplotlib.pyplot as plt\n",
    "from sklearn.linear_model import Ridge\n",
    "from sklearn.linear_model import Lasso\n",
    "from sklearn.metrics import mean_squared_error\n",
    "pd.set_option('display.max_rows', 15)"
   ]
  },
  {
   "cell_type": "code",
   "execution_count": 2,
   "metadata": {},
   "outputs": [],
   "source": [
    "# ------------------------- Load data ----------------------------"
   ]
  },
  {
   "cell_type": "code",
   "execution_count": 3,
   "metadata": {},
   "outputs": [],
   "source": [
    "# load bitcoin scaled data\n",
    "bitcoin_scale = pd.read_csv ('/home/sunny/NWU/EECS349/Bitcoin_Price_Predictor/data/bitcoin_price_scaled.csv', \\\n",
    "                       parse_dates = True, index_col = [0])"
   ]
  },
  {
   "cell_type": "code",
   "execution_count": 4,
   "metadata": {},
   "outputs": [
    {
     "data": {
      "text/html": [
       "<div>\n",
       "<style scoped>\n",
       "    .dataframe tbody tr th:only-of-type {\n",
       "        vertical-align: middle;\n",
       "    }\n",
       "\n",
       "    .dataframe tbody tr th {\n",
       "        vertical-align: top;\n",
       "    }\n",
       "\n",
       "    .dataframe thead th {\n",
       "        text-align: right;\n",
       "    }\n",
       "</style>\n",
       "<table border=\"1\" class=\"dataframe\">\n",
       "  <thead>\n",
       "    <tr style=\"text-align: right;\">\n",
       "      <th></th>\n",
       "      <th>Open</th>\n",
       "      <th>Volume</th>\n",
       "      <th>Market Cap</th>\n",
       "      <th>Close</th>\n",
       "    </tr>\n",
       "  </thead>\n",
       "  <tbody>\n",
       "    <tr>\n",
       "      <th>0</th>\n",
       "      <td>-0.465778</td>\n",
       "      <td>-0.302261</td>\n",
       "      <td>-0.455671</td>\n",
       "      <td>-0.464142</td>\n",
       "    </tr>\n",
       "    <tr>\n",
       "      <th>1</th>\n",
       "      <td>-0.464861</td>\n",
       "      <td>-0.302261</td>\n",
       "      <td>-0.455057</td>\n",
       "      <td>-0.465361</td>\n",
       "    </tr>\n",
       "    <tr>\n",
       "      <th>2</th>\n",
       "      <td>-0.463872</td>\n",
       "      <td>-0.302261</td>\n",
       "      <td>-0.454395</td>\n",
       "      <td>-0.465631</td>\n",
       "    </tr>\n",
       "    <tr>\n",
       "      <th>3</th>\n",
       "      <td>-0.464031</td>\n",
       "      <td>-0.302261</td>\n",
       "      <td>-0.454491</td>\n",
       "      <td>-0.464932</td>\n",
       "    </tr>\n",
       "    <tr>\n",
       "      <th>4</th>\n",
       "      <td>-0.464559</td>\n",
       "      <td>-0.302261</td>\n",
       "      <td>-0.454831</td>\n",
       "      <td>-0.465236</td>\n",
       "    </tr>\n",
       "    <tr>\n",
       "      <th>5</th>\n",
       "      <td>-0.464175</td>\n",
       "      <td>-0.302261</td>\n",
       "      <td>-0.454567</td>\n",
       "      <td>-0.463707</td>\n",
       "    </tr>\n",
       "    <tr>\n",
       "      <th>6</th>\n",
       "      <td>-0.464037</td>\n",
       "      <td>-0.302261</td>\n",
       "      <td>-0.454467</td>\n",
       "      <td>-0.464369</td>\n",
       "    </tr>\n",
       "    <tr>\n",
       "      <th>...</th>\n",
       "      <td>...</td>\n",
       "      <td>...</td>\n",
       "      <td>...</td>\n",
       "      <td>...</td>\n",
       "    </tr>\n",
       "    <tr>\n",
       "      <th>1746</th>\n",
       "      <td>2.439860</td>\n",
       "      <td>1.927741</td>\n",
       "      <td>2.464486</td>\n",
       "      <td>2.701065</td>\n",
       "    </tr>\n",
       "    <tr>\n",
       "      <th>1747</th>\n",
       "      <td>2.436451</td>\n",
       "      <td>2.248272</td>\n",
       "      <td>2.461413</td>\n",
       "      <td>2.927780</td>\n",
       "    </tr>\n",
       "    <tr>\n",
       "      <th>1748</th>\n",
       "      <td>2.587600</td>\n",
       "      <td>2.620091</td>\n",
       "      <td>2.613081</td>\n",
       "      <td>2.950560</td>\n",
       "    </tr>\n",
       "    <tr>\n",
       "      <th>1749</th>\n",
       "      <td>2.773593</td>\n",
       "      <td>2.485113</td>\n",
       "      <td>2.799618</td>\n",
       "      <td>3.247145</td>\n",
       "    </tr>\n",
       "    <tr>\n",
       "      <th>1750</th>\n",
       "      <td>2.878329</td>\n",
       "      <td>2.666956</td>\n",
       "      <td>2.904842</td>\n",
       "      <td>3.057848</td>\n",
       "    </tr>\n",
       "    <tr>\n",
       "      <th>1751</th>\n",
       "      <td>3.088258</td>\n",
       "      <td>2.775533</td>\n",
       "      <td>3.115434</td>\n",
       "      <td>3.285146</td>\n",
       "    </tr>\n",
       "    <tr>\n",
       "      <th>1752</th>\n",
       "      <td>3.095753</td>\n",
       "      <td>2.628993</td>\n",
       "      <td>3.123348</td>\n",
       "      <td>3.345354</td>\n",
       "    </tr>\n",
       "  </tbody>\n",
       "</table>\n",
       "<p>1753 rows × 4 columns</p>\n",
       "</div>"
      ],
      "text/plain": [
       "          Open    Volume  Market Cap     Close\n",
       "0    -0.465778 -0.302261   -0.455671 -0.464142\n",
       "1    -0.464861 -0.302261   -0.455057 -0.465361\n",
       "2    -0.463872 -0.302261   -0.454395 -0.465631\n",
       "3    -0.464031 -0.302261   -0.454491 -0.464932\n",
       "4    -0.464559 -0.302261   -0.454831 -0.465236\n",
       "5    -0.464175 -0.302261   -0.454567 -0.463707\n",
       "6    -0.464037 -0.302261   -0.454467 -0.464369\n",
       "...        ...       ...         ...       ...\n",
       "1746  2.439860  1.927741    2.464486  2.701065\n",
       "1747  2.436451  2.248272    2.461413  2.927780\n",
       "1748  2.587600  2.620091    2.613081  2.950560\n",
       "1749  2.773593  2.485113    2.799618  3.247145\n",
       "1750  2.878329  2.666956    2.904842  3.057848\n",
       "1751  3.088258  2.775533    3.115434  3.285146\n",
       "1752  3.095753  2.628993    3.123348  3.345354\n",
       "\n",
       "[1753 rows x 4 columns]"
      ]
     },
     "execution_count": 4,
     "metadata": {},
     "output_type": "execute_result"
    }
   ],
   "source": [
    "# check data\n",
    "bitcoin_scale"
   ]
  },
  {
   "cell_type": "code",
   "execution_count": 5,
   "metadata": {},
   "outputs": [],
   "source": [
    "# ----------------------- Data preparation --------------------------"
   ]
  },
  {
   "cell_type": "code",
   "execution_count": 6,
   "metadata": {},
   "outputs": [],
   "source": [
    "# shuffle the data\n",
    "np.random.seed(0)\n",
    "shuffle_indices = np.random.permutation(np.arange(0, bitcoin_scale.shape[0]))\n",
    "bitcoin_scale_shuffle = bitcoin_scale.iloc[shuffle_indices]\n",
    "# split data into training set and testing set (9:1)\n",
    "split = int(0.9 * bitcoin_scale.shape[0])\n",
    "train_data = bitcoin_scale_shuffle[0 : split]\n",
    "test_data = bitcoin_scale_shuffle[split :]"
   ]
  },
  {
   "cell_type": "code",
   "execution_count": 7,
   "metadata": {},
   "outputs": [],
   "source": [
    "# extract input and output training set\n",
    "x_train = train_data[['Open', 'Volume', 'Market Cap']]\n",
    "y_train = train_data[['Close']]\n",
    "\n",
    "# extract input and output test set\n",
    "x_test = test_data[['Open', 'Volume', 'Market Cap']]\n",
    "y_test = test_data[['Close']]"
   ]
  },
  {
   "cell_type": "code",
   "execution_count": 8,
   "metadata": {},
   "outputs": [],
   "source": [
    "# ---------------------- Ridge regression --------------------------"
   ]
  },
  {
   "cell_type": "code",
   "execution_count": 9,
   "metadata": {},
   "outputs": [
    {
     "name": "stdout",
     "output_type": "stream",
     "text": [
      "The mean squared error is 0.012684707084984807\n"
     ]
    }
   ],
   "source": [
    "# calculate the mean squared error\n",
    "clf = Ridge(alpha = 1.0)\n",
    "result = clf.fit(x_train, y_train)\n",
    "y_predict = result.predict(x_test)\n",
    "mse_ridge = mean_squared_error(y_test, y_predict)\n",
    "print(\"The mean squared error is\", str(mse_ridge))"
   ]
  },
  {
   "cell_type": "code",
   "execution_count": 10,
   "metadata": {},
   "outputs": [
    {
     "data": {
      "image/png": "[encoded data removed]",
      "text/plain": [
       "<matplotlib.figure.Figure at 0x7f59f0d37b00>"
      ]
     },
     "metadata": {},
     "output_type": "display_data"
    }
   ],
   "source": [
    "# plot the data by using original (unshuffled) data\n",
    "# use original data on trained model\n",
    "y_prediction= result.predict(bitcoin_scale[['Open', 'Volume', 'Market Cap']])\n",
    "y_test = bitcoin_scale[['Close']]\n",
    "\n",
    "plt.figure(figsize = (20, 6))\n",
    "plt.plot(y_prediction, label = 'Prediction Output')\n",
    "plt.plot(y_test, label = 'True Output')\n",
    "plt.legend(loc = 'best')\n",
    "plt.show()"
   ]
  }
 ],
 "metadata": {
  "kernelspec": {
   "display_name": "Python 3",
   "language": "python",
   "name": "python3"
  },
  "language_info": {
   "codemirror_mode": {
    "name": "ipython",
    "version": 3
   },
   "file_extension": ".py",
   "mimetype": "text/x-python",
   "name": "python",
   "nbconvert_exporter": "python",
   "pygments_lexer": "ipython3",
   "version": "3.6.4"
  }
 },
 "nbformat": 4,
 "nbformat_minor": 2
}
