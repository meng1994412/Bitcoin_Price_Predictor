{
 "cells": [
  {
   "cell_type": "code",
   "execution_count": 37,
   "metadata": {},
   "outputs": [],
   "source": [
    "# import libraries\n",
    "import numpy as np\n",
    "import pandas as pd\n",
    "import matplotlib.pyplot as plt\n",
    "from sklearn.linear_model import Ridge\n",
    "from sklearn.metrics import mean_squared_error\n",
    "pd.set_option('display.max_rows', 15)"
   ]
  },
  {
   "cell_type": "code",
   "execution_count": 38,
   "metadata": {},
   "outputs": [],
   "source": [
    "# ------------------------- Load data ----------------------------"
   ]
  },
  {
   "cell_type": "code",
   "execution_count": 39,
   "metadata": {},
   "outputs": [],
   "source": [
    "# load bitcoin scaled data\n",
    "bitcoin_scale = pd.read_csv ('/home/sunny/NWU/EECS349/Bitcoin_Price_Predictor/code/bitcoin_price_scaled.csv', \\\n",
    "                       parse_dates = True, index_col = [0])"
   ]
  },
  {
   "cell_type": "code",
   "execution_count": 40,
   "metadata": {},
   "outputs": [
    {
     "data": {
      "text/html": [
       "<div>\n",
       "<style scoped>\n",
       "    .dataframe tbody tr th:only-of-type {\n",
       "        vertical-align: middle;\n",
       "    }\n",
       "\n",
       "    .dataframe tbody tr th {\n",
       "        vertical-align: top;\n",
       "    }\n",
       "\n",
       "    .dataframe thead th {\n",
       "        text-align: right;\n",
       "    }\n",
       "</style>\n",
       "<table border=\"1\" class=\"dataframe\">\n",
       "  <thead>\n",
       "    <tr style=\"text-align: right;\">\n",
       "      <th></th>\n",
       "      <th>Open</th>\n",
       "      <th>Close</th>\n",
       "      <th>Volume</th>\n",
       "      <th>Market Cap</th>\n",
       "    </tr>\n",
       "  </thead>\n",
       "  <tbody>\n",
       "    <tr>\n",
       "      <th>0</th>\n",
       "      <td>-0.455745</td>\n",
       "      <td>-0.456843</td>\n",
       "      <td>-0.299032</td>\n",
       "      <td>-0.448995</td>\n",
       "    </tr>\n",
       "    <tr>\n",
       "      <th>1</th>\n",
       "      <td>-0.456037</td>\n",
       "      <td>-0.453352</td>\n",
       "      <td>-0.299032</td>\n",
       "      <td>-0.449183</td>\n",
       "    </tr>\n",
       "    <tr>\n",
       "      <th>2</th>\n",
       "      <td>-0.452796</td>\n",
       "      <td>-0.455224</td>\n",
       "      <td>-0.299032</td>\n",
       "      <td>-0.447038</td>\n",
       "    </tr>\n",
       "    <tr>\n",
       "      <th>3</th>\n",
       "      <td>-0.454491</td>\n",
       "      <td>-0.462664</td>\n",
       "      <td>-0.299032</td>\n",
       "      <td>-0.448144</td>\n",
       "    </tr>\n",
       "    <tr>\n",
       "      <th>4</th>\n",
       "      <td>-0.462159</td>\n",
       "      <td>-0.466646</td>\n",
       "      <td>-0.299032</td>\n",
       "      <td>-0.453187</td>\n",
       "    </tr>\n",
       "    <tr>\n",
       "      <th>5</th>\n",
       "      <td>-0.465594</td>\n",
       "      <td>-0.469168</td>\n",
       "      <td>-0.299032</td>\n",
       "      <td>-0.455443</td>\n",
       "    </tr>\n",
       "    <tr>\n",
       "      <th>6</th>\n",
       "      <td>-0.468357</td>\n",
       "      <td>-0.464182</td>\n",
       "      <td>-0.299032</td>\n",
       "      <td>-0.457257</td>\n",
       "    </tr>\n",
       "    <tr>\n",
       "      <th>...</th>\n",
       "      <td>...</td>\n",
       "      <td>...</td>\n",
       "      <td>...</td>\n",
       "      <td>...</td>\n",
       "    </tr>\n",
       "    <tr>\n",
       "      <th>1753</th>\n",
       "      <td>2.413988</td>\n",
       "      <td>2.707144</td>\n",
       "      <td>2.522310</td>\n",
       "      <td>2.438914</td>\n",
       "    </tr>\n",
       "    <tr>\n",
       "      <th>1754</th>\n",
       "      <td>2.715180</td>\n",
       "      <td>2.934215</td>\n",
       "      <td>2.934818</td>\n",
       "      <td>2.740778</td>\n",
       "    </tr>\n",
       "    <tr>\n",
       "      <th>1755</th>\n",
       "      <td>2.934659</td>\n",
       "      <td>2.957031</td>\n",
       "      <td>2.302708</td>\n",
       "      <td>2.960809</td>\n",
       "    </tr>\n",
       "    <tr>\n",
       "      <th>1756</th>\n",
       "      <td>2.959001</td>\n",
       "      <td>3.254081</td>\n",
       "      <td>2.791081</td>\n",
       "      <td>2.985578</td>\n",
       "    </tr>\n",
       "    <tr>\n",
       "      <th>1757</th>\n",
       "      <td>3.269516</td>\n",
       "      <td>3.064487</td>\n",
       "      <td>2.820830</td>\n",
       "      <td>3.296901</td>\n",
       "    </tr>\n",
       "    <tr>\n",
       "      <th>1758</th>\n",
       "      <td>3.075999</td>\n",
       "      <td>3.292142</td>\n",
       "      <td>2.430080</td>\n",
       "      <td>3.103572</td>\n",
       "    </tr>\n",
       "    <tr>\n",
       "      <th>1759</th>\n",
       "      <td>3.306266</td>\n",
       "      <td>3.352444</td>\n",
       "      <td>3.244005</td>\n",
       "      <td>3.334588</td>\n",
       "    </tr>\n",
       "  </tbody>\n",
       "</table>\n",
       "<p>1760 rows × 4 columns</p>\n",
       "</div>"
      ],
      "text/plain": [
       "          Open     Close    Volume  Market Cap\n",
       "0    -0.455745 -0.456843 -0.299032   -0.448995\n",
       "1    -0.456037 -0.453352 -0.299032   -0.449183\n",
       "2    -0.452796 -0.455224 -0.299032   -0.447038\n",
       "3    -0.454491 -0.462664 -0.299032   -0.448144\n",
       "4    -0.462159 -0.466646 -0.299032   -0.453187\n",
       "5    -0.465594 -0.469168 -0.299032   -0.455443\n",
       "6    -0.468357 -0.464182 -0.299032   -0.457257\n",
       "...        ...       ...       ...         ...\n",
       "1753  2.413988  2.707144  2.522310    2.438914\n",
       "1754  2.715180  2.934215  2.934818    2.740778\n",
       "1755  2.934659  2.957031  2.302708    2.960809\n",
       "1756  2.959001  3.254081  2.791081    2.985578\n",
       "1757  3.269516  3.064487  2.820830    3.296901\n",
       "1758  3.075999  3.292142  2.430080    3.103572\n",
       "1759  3.306266  3.352444  3.244005    3.334588\n",
       "\n",
       "[1760 rows x 4 columns]"
      ]
     },
     "execution_count": 40,
     "metadata": {},
     "output_type": "execute_result"
    }
   ],
   "source": [
    "# check data\n",
    "bitcoin_scale"
   ]
  },
  {
   "cell_type": "code",
   "execution_count": 41,
   "metadata": {},
   "outputs": [],
   "source": [
    "# ----------------------- Data preparation --------------------------"
   ]
  },
  {
   "cell_type": "code",
   "execution_count": 42,
   "metadata": {},
   "outputs": [],
   "source": [
    "# shuffle the data\n",
    "np.random.seed(0)\n",
    "shuffle_indices = np.random.permutation(np.arange(0, bitcoin_scale.shape[0]))\n",
    "bitcoin_scale_shuffle = bitcoin_scale.iloc[shuffle_indices]\n",
    "# split data into training set and testing set (9:1)\n",
    "split = int(0.9 * bitcoin_scale.shape[0])\n",
    "train_data = bitcoin_scale_shuffle[0 : split]\n",
    "test_data = bitcoin_scale_shuffle[split :]"
   ]
  },
  {
   "cell_type": "code",
   "execution_count": 43,
   "metadata": {},
   "outputs": [],
   "source": [
    "# extract input and output training set\n",
    "x_train = train_data[['Open', 'Volume', 'Market Cap']]\n",
    "y_train = train_data[['Close']]\n",
    "\n",
    "# extract input and output test set\n",
    "x_test = test_data[['Open', 'Volume', 'Market Cap']]\n",
    "y_test = test_data[['Close']]"
   ]
  },
  {
   "cell_type": "code",
   "execution_count": 44,
   "metadata": {},
   "outputs": [],
   "source": [
    "# ---------------------- Ridge (Linear) regression --------------------------------"
   ]
  },
  {
   "cell_type": "code",
   "execution_count": 45,
   "metadata": {},
   "outputs": [
    {
     "name": "stdout",
     "output_type": "stream",
     "text": [
      "The mean squared error is 0.006071465659174263\n"
     ]
    }
   ],
   "source": [
    "clf = Ridge(alpha = 1.0)\n",
    "result = clf.fit(x_train, y_train)\n",
    "y_predict = result.predict(x_test)\n",
    "mse = mean_squared_error(y_test, y_predict)\n",
    "print(\"The mean squared error is\", str(mse))"
   ]
  },
  {
   "cell_type": "code",
   "execution_count": 46,
   "metadata": {},
   "outputs": [
    {
     "data": {
      "image/png": "[encoded data removed]",
      "text/plain": [
       "<matplotlib.figure.Figure at 0x7ff3596aef28>"
      ]
     },
     "metadata": {},
     "output_type": "display_data"
    }
   ],
   "source": [
    "# plot the data by using original (unshuffled) data\n",
    "y_prediction = result.predict(bitcoin_scale.iloc[:,[0,2,3]])\n",
    "y_test = bitcoin_scale[['Close']]\n",
    "\n",
    "plt.figure(figsize = (20, 6))\n",
    "plt.plot(y_prediction, label = 'Prediction Output')\n",
    "plt.plot(y_test, label = 'True Output')\n",
    "plt.legend(loc = 'best')\n",
    "plt.show()"
   ]
  }
 ],
 "metadata": {
  "kernelspec": {
   "display_name": "Python 3",
   "language": "python",
   "name": "python3"
  },
  "language_info": {
   "codemirror_mode": {
    "name": "ipython",
    "version": 3
   },
   "file_extension": ".py",
   "mimetype": "text/x-python",
   "name": "python",
   "nbconvert_exporter": "python",
   "pygments_lexer": "ipython3",
   "version": "3.6.4"
  }
 },
 "nbformat": 4,
 "nbformat_minor": 2
}
